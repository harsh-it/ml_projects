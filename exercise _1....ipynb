{
 "cells": [
  {
   "cell_type": "code",
   "execution_count": 2,
   "metadata": {},
   "outputs": [
    {
     "data": {
      "text/html": [
       "<div>\n",
       "<style scoped>\n",
       "    .dataframe tbody tr th:only-of-type {\n",
       "        vertical-align: middle;\n",
       "    }\n",
       "\n",
       "    .dataframe tbody tr th {\n",
       "        vertical-align: top;\n",
       "    }\n",
       "\n",
       "    .dataframe thead th {\n",
       "        text-align: right;\n",
       "    }\n",
       "</style>\n",
       "<table border=\"1\" class=\"dataframe\">\n",
       "  <thead>\n",
       "    <tr style=\"text-align: right;\">\n",
       "      <th></th>\n",
       "      <th>title</th>\n",
       "      <th>year</th>\n",
       "      <th>name</th>\n",
       "      <th>type</th>\n",
       "      <th>character</th>\n",
       "      <th>n</th>\n",
       "    </tr>\n",
       "  </thead>\n",
       "  <tbody>\n",
       "    <tr>\n",
       "      <th>0</th>\n",
       "      <td>Suuri illusioni</td>\n",
       "      <td>1985</td>\n",
       "      <td>Homo $</td>\n",
       "      <td>actor</td>\n",
       "      <td>Guests</td>\n",
       "      <td>22.0</td>\n",
       "    </tr>\n",
       "    <tr>\n",
       "      <th>1</th>\n",
       "      <td>Gangsta Rap: The Glockumentary</td>\n",
       "      <td>2007</td>\n",
       "      <td>Too $hort</td>\n",
       "      <td>actor</td>\n",
       "      <td>Himself</td>\n",
       "      <td>NaN</td>\n",
       "    </tr>\n",
       "    <tr>\n",
       "      <th>2</th>\n",
       "      <td>Menace II Society</td>\n",
       "      <td>1993</td>\n",
       "      <td>Too $hort</td>\n",
       "      <td>actor</td>\n",
       "      <td>Lew-Loc</td>\n",
       "      <td>27.0</td>\n",
       "    </tr>\n",
       "    <tr>\n",
       "      <th>3</th>\n",
       "      <td>Porndogs: The Adventures of Sadie</td>\n",
       "      <td>2009</td>\n",
       "      <td>Too $hort</td>\n",
       "      <td>actor</td>\n",
       "      <td>Bosco</td>\n",
       "      <td>3.0</td>\n",
       "    </tr>\n",
       "    <tr>\n",
       "      <th>4</th>\n",
       "      <td>Stop Pepper Palmer</td>\n",
       "      <td>2014</td>\n",
       "      <td>Too $hort</td>\n",
       "      <td>actor</td>\n",
       "      <td>Himself</td>\n",
       "      <td>NaN</td>\n",
       "    </tr>\n",
       "    <tr>\n",
       "      <th>5</th>\n",
       "      <td>Townbiz</td>\n",
       "      <td>2010</td>\n",
       "      <td>Too $hort</td>\n",
       "      <td>actor</td>\n",
       "      <td>Himself</td>\n",
       "      <td>NaN</td>\n",
       "    </tr>\n",
       "    <tr>\n",
       "      <th>6</th>\n",
       "      <td>For Thy Love 2</td>\n",
       "      <td>2009</td>\n",
       "      <td>Bee Moe $lim</td>\n",
       "      <td>actor</td>\n",
       "      <td>Thug 1</td>\n",
       "      <td>NaN</td>\n",
       "    </tr>\n",
       "    <tr>\n",
       "      <th>7</th>\n",
       "      <td>Desire (III)</td>\n",
       "      <td>2014</td>\n",
       "      <td>Syaiful 'Ariffin</td>\n",
       "      <td>actor</td>\n",
       "      <td>Actor Playing Eteocles from 'Antigone'</td>\n",
       "      <td>NaN</td>\n",
       "    </tr>\n",
       "    <tr>\n",
       "      <th>8</th>\n",
       "      <td>When the Man Went South</td>\n",
       "      <td>2014</td>\n",
       "      <td>Taipaleti 'Atu'ake</td>\n",
       "      <td>actor</td>\n",
       "      <td>Two Palms - Ua'i Paame</td>\n",
       "      <td>8.0</td>\n",
       "    </tr>\n",
       "    <tr>\n",
       "      <th>9</th>\n",
       "      <td>Little Angel (Angelita)</td>\n",
       "      <td>2015</td>\n",
       "      <td>Michael 'babeepower' Viera</td>\n",
       "      <td>actor</td>\n",
       "      <td>Chico</td>\n",
       "      <td>9.0</td>\n",
       "    </tr>\n",
       "  </tbody>\n",
       "</table>\n",
       "</div>"
      ],
      "text/plain": [
       "                               title  year                        name   type  \\\n",
       "0                    Suuri illusioni  1985                      Homo $  actor   \n",
       "1     Gangsta Rap: The Glockumentary  2007                   Too $hort  actor   \n",
       "2                  Menace II Society  1993                   Too $hort  actor   \n",
       "3  Porndogs: The Adventures of Sadie  2009                   Too $hort  actor   \n",
       "4                 Stop Pepper Palmer  2014                   Too $hort  actor   \n",
       "5                            Townbiz  2010                   Too $hort  actor   \n",
       "6                     For Thy Love 2  2009                Bee Moe $lim  actor   \n",
       "7                       Desire (III)  2014            Syaiful 'Ariffin  actor   \n",
       "8            When the Man Went South  2014          Taipaleti 'Atu'ake  actor   \n",
       "9            Little Angel (Angelita)  2015  Michael 'babeepower' Viera  actor   \n",
       "\n",
       "                                character     n  \n",
       "0                                  Guests  22.0  \n",
       "1                                 Himself   NaN  \n",
       "2                                 Lew-Loc  27.0  \n",
       "3                                   Bosco   3.0  \n",
       "4                                 Himself   NaN  \n",
       "5                                 Himself   NaN  \n",
       "6                                  Thug 1   NaN  \n",
       "7  Actor Playing Eteocles from 'Antigone'   NaN  \n",
       "8                  Two Palms - Ua'i Paame   8.0  \n",
       "9                                   Chico   9.0  "
      ]
     },
     "execution_count": 2,
     "metadata": {},
     "output_type": "execute_result"
    }
   ],
   "source": [
    "import numpy as np\n",
    "import pandas as pd\n",
    "df1=pd.read_csv(r\"C:\\Users\\harshit\\Downloads\\data set\\cast.csv\")\n",
    "df1.head(10)"
   ]
  },
  {
   "cell_type": "code",
   "execution_count": 2,
   "metadata": {},
   "outputs": [
    {
     "data": {
      "text/html": [
       "<div>\n",
       "<style scoped>\n",
       "    .dataframe tbody tr th:only-of-type {\n",
       "        vertical-align: middle;\n",
       "    }\n",
       "\n",
       "    .dataframe tbody tr th {\n",
       "        vertical-align: top;\n",
       "    }\n",
       "\n",
       "    .dataframe thead th {\n",
       "        text-align: right;\n",
       "    }\n",
       "</style>\n",
       "<table border=\"1\" class=\"dataframe\">\n",
       "  <thead>\n",
       "    <tr style=\"text-align: right;\">\n",
       "      <th></th>\n",
       "      <th>title</th>\n",
       "      <th>year</th>\n",
       "    </tr>\n",
       "  </thead>\n",
       "  <tbody>\n",
       "    <tr>\n",
       "      <th>0</th>\n",
       "      <td>Suuri illusioni</td>\n",
       "      <td>1985</td>\n",
       "    </tr>\n",
       "    <tr>\n",
       "      <th>1</th>\n",
       "      <td>Gangsta Rap: The Glockumentary</td>\n",
       "      <td>2007</td>\n",
       "    </tr>\n",
       "    <tr>\n",
       "      <th>2</th>\n",
       "      <td>Menace II Society</td>\n",
       "      <td>1993</td>\n",
       "    </tr>\n",
       "    <tr>\n",
       "      <th>3</th>\n",
       "      <td>Porndogs: The Adventures of Sadie</td>\n",
       "      <td>2009</td>\n",
       "    </tr>\n",
       "    <tr>\n",
       "      <th>4</th>\n",
       "      <td>Stop Pepper Palmer</td>\n",
       "      <td>2014</td>\n",
       "    </tr>\n",
       "  </tbody>\n",
       "</table>\n",
       "</div>"
      ],
      "text/plain": [
       "                               title  year\n",
       "0                    Suuri illusioni  1985\n",
       "1     Gangsta Rap: The Glockumentary  2007\n",
       "2                  Menace II Society  1993\n",
       "3  Porndogs: The Adventures of Sadie  2009\n",
       "4                 Stop Pepper Palmer  2014"
      ]
     },
     "execution_count": 2,
     "metadata": {},
     "output_type": "execute_result"
    }
   ],
   "source": [
    "DF1=df1.iloc[:,:2]\n",
    "DF1.head()"
   ]
  },
  {
   "cell_type": "code",
   "execution_count": 3,
   "metadata": {},
   "outputs": [
    {
     "data": {
      "text/plain": [
       "title    159488\n",
       "year        120\n",
       "dtype: int64"
      ]
     },
     "execution_count": 3,
     "metadata": {},
     "output_type": "execute_result"
    }
   ],
   "source": [
    "# Q. 1  gives total no. of movies.\n",
    "\n",
    "df2=df1.iloc[:,:2].nunique()\n",
    "df2\n"
   ]
  },
  {
   "cell_type": "code",
   "execution_count": 4,
   "metadata": {},
   "outputs": [
    {
     "data": {
      "text/html": [
       "<div>\n",
       "<style scoped>\n",
       "    .dataframe tbody tr th:only-of-type {\n",
       "        vertical-align: middle;\n",
       "    }\n",
       "\n",
       "    .dataframe tbody tr th {\n",
       "        vertical-align: top;\n",
       "    }\n",
       "\n",
       "    .dataframe thead th {\n",
       "        text-align: right;\n",
       "    }\n",
       "</style>\n",
       "<table border=\"1\" class=\"dataframe\">\n",
       "  <thead>\n",
       "    <tr style=\"text-align: right;\">\n",
       "      <th></th>\n",
       "      <th>title</th>\n",
       "      <th>year</th>\n",
       "    </tr>\n",
       "  </thead>\n",
       "  <tbody>\n",
       "    <tr>\n",
       "      <th>511376</th>\n",
       "      <td>Miss Jerry</td>\n",
       "      <td>1894</td>\n",
       "    </tr>\n",
       "    <tr>\n",
       "      <th>978078</th>\n",
       "      <td>Jeffries-Sharkey Contest</td>\n",
       "      <td>1899</td>\n",
       "    </tr>\n",
       "  </tbody>\n",
       "</table>\n",
       "</div>"
      ],
      "text/plain": [
       "                           title  year\n",
       "511376                Miss Jerry  1894\n",
       "978078  Jeffries-Sharkey Contest  1899"
      ]
     },
     "execution_count": 4,
     "metadata": {},
     "output_type": "execute_result"
    }
   ],
   "source": [
    "# Q. 2   gives the two earliest movies in list.\n",
    "\n",
    "df3=df1.iloc[:,:2]\n",
    "df_3=df3.sort_values(by=['year']).drop_duplicates()\n",
    "df_3.head(2)\n"
   ]
  },
  {
   "cell_type": "code",
   "execution_count": 5,
   "metadata": {},
   "outputs": [
    {
     "data": {
      "text/plain": [
       "Hamlet    299\n",
       "Name: title, dtype: int64"
      ]
     },
     "execution_count": 5,
     "metadata": {},
     "output_type": "execute_result"
    }
   ],
   "source": [
    "# Q. 3   gives the total no. of 'Hamlet' movie.\n",
    " \n",
    "df4=df1.iloc[:,:1]\n",
    "df4[df4.title=='Hamlet'].title.value_counts()\n",
    "\n"
   ]
  },
  {
   "cell_type": "code",
   "execution_count": 6,
   "metadata": {},
   "outputs": [
    {
     "data": {
      "text/plain": [
       "North by Northwest    111\n",
       "Name: title, dtype: int64"
      ]
     },
     "execution_count": 6,
     "metadata": {},
     "output_type": "execute_result"
    }
   ],
   "source": [
    "# Q. 4    gives the total no. of 'North by Northwest' movie.\n",
    "\n",
    "df4[df4.title=='North by Northwest'].title.value_counts()"
   ]
  },
  {
   "cell_type": "code",
   "execution_count": 7,
   "metadata": {},
   "outputs": [
    {
     "data": {
      "text/plain": [
       "1910"
      ]
     },
     "execution_count": 7,
     "metadata": {},
     "output_type": "execute_result"
    }
   ],
   "source": [
    "# Q. 5   gives the year in which first hamlet movie was released.\n",
    "\n",
    "df5=DF1[DF1.title=='Hamlet'].year.unique()\n",
    "df5.min()\n"
   ]
  },
  {
   "cell_type": "code",
   "execution_count": 8,
   "metadata": {},
   "outputs": [
    {
     "data": {
      "text/plain": [
       "1918    13\n",
       "1920    12\n",
       "1934    55\n",
       "1950    34\n",
       "1972    25\n",
       "1973     9\n",
       "1985    15\n",
       "1999    24\n",
       "Name: year, dtype: int64"
      ]
     },
     "execution_count": 8,
     "metadata": {},
     "output_type": "execute_result"
    }
   ],
   "source": [
    "# Q. 6     gives list of all the 'treasure island' movie from earliest to recent\n",
    "\n",
    "df6=DF1[DF1.title=='Treasure Island'].year.value_counts()\n",
    "df6.sort_index()"
   ]
  },
  {
   "cell_type": "code",
   "execution_count": 9,
   "metadata": {},
   "outputs": [
    {
     "data": {
      "text/plain": [
       "1910     1\n",
       "1954     1\n",
       "1987     3\n",
       "2015     6\n",
       "1911     6\n",
       "1973     8\n",
       "1921     9\n",
       "1976    11\n",
       "2011    12\n",
       "2009    17\n",
       "1913    21\n",
       "1969    24\n",
       "1948    25\n",
       "1990    29\n",
       "1964    33\n",
       "2000    38\n",
       "1996    55\n",
       "Name: year, dtype: int64"
      ]
     },
     "execution_count": 9,
     "metadata": {},
     "output_type": "execute_result"
    }
   ],
   "source": [
    "#  Q 3 & 5. another way\n",
    "df7=DF1[DF1.title=='Hamlet'].year.value_counts()\n",
    "df7.sort_values()"
   ]
  },
  {
   "cell_type": "code",
   "execution_count": 10,
   "metadata": {},
   "outputs": [
    {
     "data": {
      "text/plain": [
       "21414"
      ]
     },
     "execution_count": 10,
     "metadata": {},
     "output_type": "execute_result"
    }
   ],
   "source": [
    "# Q. 7   gives total no. of movies released in 1950.\n",
    "\n",
    "df8=DF1[DF1.year==1950].title.value_counts()\n",
    "df8.sum()"
   ]
  },
  {
   "cell_type": "code",
   "execution_count": 22,
   "metadata": {},
   "outputs": [
    {
     "data": {
      "text/plain": [
       "1950    21414\n",
       "Name: year, dtype: int64"
      ]
     },
     "execution_count": 22,
     "metadata": {},
     "output_type": "execute_result"
    }
   ],
   "source": [
    "# Q. 7   another way : gives total no. of movies released in 1950.\n",
    "\n",
    "df9=DF1[DF1.year==1950].year.value_counts()\n",
    "df9"
   ]
  },
  {
   "cell_type": "code",
   "execution_count": 23,
   "metadata": {},
   "outputs": [
    {
     "data": {
      "text/plain": [
       "1960    17163\n",
       "Name: year, dtype: int64"
      ]
     },
     "execution_count": 23,
     "metadata": {},
     "output_type": "execute_result"
    }
   ],
   "source": [
    "# Q. 8  gives the total no. of movies released in 1960.\n",
    "\n",
    "df10=DF1[DF1.year==1960].year.value_counts()\n",
    "df10"
   ]
  },
  {
   "cell_type": "code",
   "execution_count": 24,
   "metadata": {},
   "outputs": [
    {
     "data": {
      "text/plain": [
       "86823     1943\n",
       "103458    1989\n",
       "Name: year, dtype: int64"
      ]
     },
     "execution_count": 24,
     "metadata": {},
     "output_type": "execute_result"
    }
   ],
   "source": [
    "# Q. 10  gives that years in which 'batman' movie was released.\n",
    "\n",
    "df11=DF1[DF1.title=='Batman'].year.drop_duplicates()\n",
    "df11\n"
   ]
  },
  {
   "cell_type": "code",
   "execution_count": 25,
   "metadata": {},
   "outputs": [
    {
     "data": {
      "text/plain": [
       "1943    52\n",
       "1989    66\n",
       "Name: year, dtype: int64"
      ]
     },
     "execution_count": 25,
     "metadata": {},
     "output_type": "execute_result"
    }
   ],
   "source": [
    "# Q 10.  gives those years in which 'batman' movie was released alongwith the no. of movies..  (another way)\n",
    "\n",
    "df12=DF1[DF1.title=='Batman'].year.value_counts()\n",
    "df12.sort_index()"
   ]
  },
  {
   "cell_type": "code",
   "execution_count": 26,
   "metadata": {},
   "outputs": [
    {
     "data": {
      "text/plain": [
       "1326.0"
      ]
     },
     "execution_count": 26,
     "metadata": {},
     "output_type": "execute_result"
    }
   ],
   "source": [
    "# Q 11. gives the total no. of roles in 'inception' movie.\n",
    "\n",
    "df13=df1[df1.title=='Inception'].n\n",
    "df13.dropna()\n",
    "df13.sum()"
   ]
  },
  {
   "cell_type": "code",
   "execution_count": 27,
   "metadata": {},
   "outputs": [
    {
     "data": {
      "text/plain": [
       "51"
      ]
     },
     "execution_count": 27,
     "metadata": {},
     "output_type": "execute_result"
    }
   ],
   "source": [
    "# Q 11.  total no. of roles in inception movie.\n",
    "\n",
    "df14=df1[df1.title=='Inception'].character\n",
    "df14.drop_duplicates().value_counts().sum()"
   ]
  },
  {
   "cell_type": "code",
   "execution_count": 28,
   "metadata": {},
   "outputs": [
    {
     "data": {
      "text/plain": [
       "51"
      ]
     },
     "execution_count": 28,
     "metadata": {},
     "output_type": "execute_result"
    }
   ],
   "source": [
    "# Q 13. how many roles in inception receive an \"n\" value.\n",
    "\n",
    "df15=df1[df1.title=='Inception'].n\n",
    "df15.dropna().value_counts().sum()"
   ]
  },
  {
   "cell_type": "code",
   "execution_count": 29,
   "metadata": {},
   "outputs": [
    {
     "data": {
      "text/plain": [
       "773496      1.0\n",
       "3084579     2.0\n",
       "1292652     3.0\n",
       "2776446     4.0\n",
       "315343      5.0\n",
       "2685171     6.0\n",
       "1504777     7.0\n",
       "1130557     8.0\n",
       "2167754     9.0\n",
       "1607029    10.0\n",
       "590702     11.0\n",
       "2033529    12.0\n",
       "411247     13.0\n",
       "1339004    14.0\n",
       "180985     15.0\n",
       "1228229    16.0\n",
       "Name: n, dtype: float64"
      ]
     },
     "execution_count": 29,
     "metadata": {},
     "output_type": "execute_result"
    }
   ],
   "source": [
    "# Q 14. cast of 'north by northwest' movie with their 'n'  value            (incomplete)\n",
    "\n",
    "df16=df1[df1.title=='North by Northwest'].n\n",
    "df16.dropna().sort_values()"
   ]
  },
  {
   "cell_type": "code",
   "execution_count": 30,
   "metadata": {},
   "outputs": [
    {
     "data": {
      "text/plain": [
       "NaN    21\n",
       "Name: n, dtype: int64"
      ]
     },
     "execution_count": 30,
     "metadata": {},
     "output_type": "execute_result"
    }
   ],
   "source": [
    "# Q 12. how many roles in 'inception' are not ranked by 'n' value\n",
    "\n",
    "df17=df1[df1.title=='Inception'].n.value_counts(dropna=False)\n",
    "df17.head(1)"
   ]
  },
  {
   "cell_type": "code",
   "execution_count": 31,
   "metadata": {},
   "outputs": [
    {
     "data": {
      "text/plain": [
       "Marguerite Wyke               1\n",
       "Detective Sergeant Tarrant    1\n",
       "Andrew Wyke                   1\n",
       "Police Constable Higgs        1\n",
       "Inspector Doppler             1\n",
       "Milo Tindle                   1\n",
       "Name: character, dtype: int64"
      ]
     },
     "execution_count": 31,
     "metadata": {},
     "output_type": "execute_result"
    }
   ],
   "source": [
    "# Q 15. cast of 1972 sleuth film..\n",
    "\n",
    "df18=df1[(df1['title']=='Sleuth') & (df1['year']==1972)].character\n",
    "df18.value_counts()"
   ]
  },
  {
   "cell_type": "code",
   "execution_count": 3,
   "metadata": {},
   "outputs": [
    {
     "data": {
      "text/plain": [
       "228757     Other Man on T.V.\n",
       "288503                Andrew\n",
       "330751     Inspector Doppler\n",
       "1147041                 Milo\n",
       "1602268          Man on T.V.\n",
       "2406761      Marguerite Wyke\n",
       "2958823               Maggie\n",
       "Name: character, dtype: object"
      ]
     },
     "execution_count": 3,
     "metadata": {},
     "output_type": "execute_result"
    }
   ],
   "source": [
    "# Q 16 cast of 2007 sleuth film..\n",
    "\n",
    "df19=df1[(df1['title']=='Sleuth') & (df1['year']==2007)].character\n",
    "df19"
   ]
  },
  {
   "cell_type": "code",
   "execution_count": 11,
   "metadata": {},
   "outputs": [
    {
     "data": {
      "text/html": [
       "<div>\n",
       "<style scoped>\n",
       "    .dataframe tbody tr th:only-of-type {\n",
       "        vertical-align: middle;\n",
       "    }\n",
       "\n",
       "    .dataframe tbody tr th {\n",
       "        vertical-align: top;\n",
       "    }\n",
       "\n",
       "    .dataframe thead th {\n",
       "        text-align: right;\n",
       "    }\n",
       "</style>\n",
       "<table border=\"1\" class=\"dataframe\">\n",
       "  <thead>\n",
       "    <tr style=\"text-align: right;\">\n",
       "      <th></th>\n",
       "      <th>title</th>\n",
       "      <th>year</th>\n",
       "      <th>name</th>\n",
       "      <th>type</th>\n",
       "      <th>character</th>\n",
       "      <th>n</th>\n",
       "    </tr>\n",
       "  </thead>\n",
       "  <tbody>\n",
       "  </tbody>\n",
       "</table>\n",
       "</div>"
      ],
      "text/plain": [
       "Empty DataFrame\n",
       "Columns: [title, year, name, type, character, n]\n",
       "Index: []"
      ]
     },
     "execution_count": 11,
     "metadata": {},
     "output_type": "execute_result"
    }
   ],
   "source": [
    "df20=df1[(df1['title']=='Hemlet') & (df1['year']==1921)].sort_values(\"type\")\n",
    "df20"
   ]
  },
  {
   "cell_type": "code",
   "execution_count": 5,
   "metadata": {},
   "outputs": [
    {
     "data": {
      "text/plain": [
       "Series([], Name: n, dtype: float64)"
      ]
     },
     "execution_count": 5,
     "metadata": {},
     "output_type": "execute_result"
    }
   ],
   "source": [
    "df21=df1[(df1['name']=='Branagh') & (df1['year']==1996)].n\n",
    "df21"
   ]
  },
  {
   "cell_type": "code",
   "execution_count": 14,
   "metadata": {},
   "outputs": [
    {
     "data": {
      "text/plain": [
       "Series([], Name: character, dtype: object)"
      ]
     },
     "execution_count": 14,
     "metadata": {},
     "output_type": "execute_result"
    }
   ],
   "source": [
    "df22=df1[df1.title=='Hemlet'].character\n",
    "df22"
   ]
  },
  {
   "cell_type": "code",
   "execution_count": 17,
   "metadata": {},
   "outputs": [
    {
     "data": {
      "text/plain": [
       "555.0"
      ]
     },
     "execution_count": 17,
     "metadata": {},
     "output_type": "execute_result"
    }
   ],
   "source": [
    "# Q 20. how many people played 'ophelia' role.\n",
    "\n",
    "df23=df1[df1.character=='Ophelia'].n\n",
    "df23.dropna().sum()"
   ]
  },
  {
   "cell_type": "code",
   "execution_count": 20,
   "metadata": {},
   "outputs": [
    {
     "data": {
      "text/plain": [
       "151.0"
      ]
     },
     "execution_count": 20,
     "metadata": {},
     "output_type": "execute_result"
    }
   ],
   "source": [
    "# Q 21. how many peoples played 'the dude' role.\n",
    "\n",
    "df24=df1[df1.character=='The Dude'].n\n",
    "df24.dropna().sum()"
   ]
  },
  {
   "cell_type": "code",
   "execution_count": 23,
   "metadata": {},
   "outputs": [
    {
     "data": {
      "text/plain": [
       "849.0"
      ]
     },
     "execution_count": 23,
     "metadata": {},
     "output_type": "execute_result"
    }
   ],
   "source": [
    "# Q 22. how many people played \"the stranger\" role.\n",
    "\n",
    "df25=df1[df1.character=='The Stranger'].n\n",
    "df25.dropna().sum()"
   ]
  },
  {
   "cell_type": "code",
   "execution_count": 28,
   "metadata": {},
   "outputs": [
    {
     "data": {
      "text/plain": [
       "Brando Unauthorized    1\n",
       "Name: title, dtype: int64"
      ]
     },
     "execution_count": 28,
     "metadata": {},
     "output_type": "execute_result"
    }
   ],
   "source": [
    "# Q 23. roles played by sidney poitier.\n",
    "\n",
    "df26=df1[df1.character=='Sidney Poitier'].title\n",
    "df26.value_counts()"
   ]
  },
  {
   "cell_type": "code",
   "execution_count": 33,
   "metadata": {},
   "outputs": [
    {
     "data": {
      "text/plain": [
       "0.0"
      ]
     },
     "execution_count": 33,
     "metadata": {},
     "output_type": "execute_result"
    }
   ],
   "source": [
    "# Q 24. roles played by judi dench.\n",
    "\n",
    "df27=df1[df1.character=='Judi Dench'].n\n",
    "df27.sum()"
   ]
  },
  {
   "cell_type": "code",
   "execution_count": 52,
   "metadata": {},
   "outputs": [
    {
     "data": {
      "text/plain": [
       "836825    Kenneth Harlan\n",
       "Name: name, dtype: object"
      ]
     },
     "execution_count": 52,
     "metadata": {},
     "output_type": "execute_result"
    }
   ],
   "source": [
    "# Q 25. supporting roles played by cary grant.\n",
    "\n",
    "df28=df1[(df1['character']=='Cary Grant') & (df1['n']==2)].name\n",
    "df28"
   ]
  },
  {
   "cell_type": "code",
   "execution_count": 53,
   "metadata": {},
   "outputs": [
    {
     "data": {
      "text/plain": [
       "Series([], Name: year, dtype: int64)"
      ]
     },
     "execution_count": 53,
     "metadata": {},
     "output_type": "execute_result"
    }
   ],
   "source": [
    "df29=df1[(df1['character']=='Cary Grant') & (df1['n']==1)].year\n",
    "df29"
   ]
  },
  {
   "cell_type": "code",
   "execution_count": 65,
   "metadata": {},
   "outputs": [
    {
     "data": {
      "text/plain": [
       "6962"
      ]
     },
     "execution_count": 65,
     "metadata": {},
     "output_type": "execute_result"
    }
   ],
   "source": [
    "# Q 27. roles available for actors in 1950.\n",
    "\n",
    "df30=df1[(df1['year']==1950) & (df1['type']=='actor')].name.nunique()\n",
    "df30"
   ]
  },
  {
   "cell_type": "code",
   "execution_count": 69,
   "metadata": {},
   "outputs": [
    {
     "data": {
      "text/plain": [
       "3260"
      ]
     },
     "execution_count": 69,
     "metadata": {},
     "output_type": "execute_result"
    }
   ],
   "source": [
    "# Q 28. roles available for actresses in 1950.\n",
    "\n",
    "df31=df1[(df1['year']==1950) & (df1['type']=='actress')].name.nunique()\n",
    "df31"
   ]
  },
  {
   "cell_type": "code",
   "execution_count": null,
   "metadata": {},
   "outputs": [],
   "source": []
  },
  {
   "cell_type": "code",
   "execution_count": null,
   "metadata": {},
   "outputs": [],
   "source": []
  },
  {
   "cell_type": "code",
   "execution_count": 3,
   "metadata": {},
   "outputs": [
    {
     "data": {
      "text/plain": [
       "year  year\n",
       "1937  1937    27022\n",
       "1936  1936    25381\n",
       "1938  1938    24755\n",
       "1939  1939    24008\n",
       "1935  1935    23682\n",
       "1934  1934    20251\n",
       "1933  1933    15099\n",
       "1932  1932    14552\n",
       "1931  1931    11575\n",
       "1930  1930     9540\n",
       "Name: year, dtype: int64"
      ]
     },
     "execution_count": 3,
     "metadata": {},
     "output_type": "execute_result"
    }
   ],
   "source": [
    "# 3 years in 1930s showing the most no. of movies.\n",
    "\n",
    "a = df1[(df1['year']>=1930) & (df1['year']<1940)].sort_values(by=['year'])\n",
    "grp=a.groupby('year')\n",
    "grp['year'].value_counts().sort_values(ascending=False)\n",
    "\n",
    "\n",
    "\n"
   ]
  },
  {
   "cell_type": "code",
   "execution_count": 10,
   "metadata": {},
   "outputs": [
    {
     "data": {
      "text/plain": [
       "year  title                          \n",
       "1950  Gone to Earth                      294\n",
       "      Kill the Umpire                    135\n",
       "      Riding High                        113\n",
       "      When Willie Comes Marching Home    105\n",
       "      Black Hand                         103\n",
       "      The Petty Girl                      97\n",
       "      Copper Canyon                       95\n",
       "      Let's Dance                         92\n",
       "      The Flame and the Arrow             92\n",
       "      Three Came Home                     88\n",
       "      Annie Get Your Gun                  87\n",
       "      Key to the City                     87\n",
       "      Father of the Bride                 86\n",
       "      A Life of Her Own                   84\n",
       "      No Way Out                          80\n",
       "      Mister 880                          79\n",
       "      Love That Brute                     78\n",
       "      A Woman of Distinction              76\n",
       "      My Blue Heaven                      76\n",
       "      Please Believe Me                   76\n",
       "      The Yellow Cab Man                  76\n",
       "      Emergency Wedding                   75\n",
       "      The Great Jewel Robber              73\n",
       "      Between Midnight and Dawn           72\n",
       "      Seven Days to Noon                  72\n",
       "      The Asphalt Jungle                  72\n",
       "      Where Danger Lives                  72\n",
       "      Mrs. O'Malley and Mr. Malone        70\n",
       "      Wabash Avenue                       70\n",
       "      Sunset Blvd.                        69\n",
       "                                        ... \n",
       "1959  Cilali Ibo casuslar arasinda         1\n",
       "      Cilali Ibo yildizlar arasinda        1\n",
       "      Da xia qing sha an                   1\n",
       "      Dona Xepa                            1\n",
       "      Faisla                               1\n",
       "      Flor de canela                       1\n",
       "      Fosforlu Cevriye                     1\n",
       "      Ge mi xiao jie                       1\n",
       "      He nacido en Buenos Aires            1\n",
       "      I Lili kai o mourdaris               1\n",
       "      Jagajyothi Basaveshwara              1\n",
       "      Jin tian wo xiu xi                   1\n",
       "      Kirik plak                           1\n",
       "      Koel                                 1\n",
       "      Lin jia pu zi                        1\n",
       "      Marcelino                            1\n",
       "      Nacida para amar                     1\n",
       "      Nash korespondent                    1\n",
       "      Pasos de angustia                    1\n",
       "      Rancho Texas                         1\n",
       "      Rosa Rossini                         1\n",
       "      Salangi gagijeone                    1\n",
       "      Samanyolu                            1\n",
       "      Shi xiong di                         1\n",
       "      Sudba pojeta                         1\n",
       "      Tetsuwan toshu inao monogatari       1\n",
       "      The Lost Class of '59                1\n",
       "      Unpaid Debt                          1\n",
       "      Veter                                1\n",
       "      Vrata ostaju otvorena                1\n",
       "Name: title, Length: 9717, dtype: int64"
      ]
     },
     "execution_count": 10,
     "metadata": {},
     "output_type": "execute_result"
    }
   ],
   "source": [
    "# Q 9(xtra). How many individual movies were made from 1950 through 1959?\n",
    "\n",
    "b=df1[(df1['year']>=1950) & (df1['year']<1960)].sort_values(by=['year'])  # gives whole data in ascending order of years from 1950 to 1959.\n",
    "grp=b.groupby('year').title.value_counts()   # groups data year wise and counts the no. of indvdl movies.\n",
    "grp"
   ]
  },
  {
   "cell_type": "code",
   "execution_count": 15,
   "metadata": {},
   "outputs": [
    {
     "data": {
      "text/plain": [
       "year  year\n",
       "1950  1950    21414\n",
       "1951  1951    22388\n",
       "1952  1952    22020\n",
       "1953  1953    21322\n",
       "1954  1954    18604\n",
       "1955  1955    19120\n",
       "1956  1956    20685\n",
       "1957  1957    19908\n",
       "1958  1958    19062\n",
       "1959  1959    17397\n",
       "Name: year, dtype: int64"
      ]
     },
     "execution_count": 15,
     "metadata": {},
     "output_type": "execute_result"
    }
   ],
   "source": [
    "# Q 9. How many total movies were made from 1950 through 1959?\n",
    "\n",
    "b=df1[(df1['year']>=1950) & (df1['year']<1960)].sort_values(by=['year'])  # gives the whole data year wise in separated rows.\n",
    "grp=b.groupby('year')     # groups data into groups of year, (gives dict having year as a key and list of index value as value)\n",
    "grp['year'].value_counts()   # counts the no. of entries in each grp of year."
   ]
  },
  {
   "cell_type": "code",
   "execution_count": null,
   "metadata": {},
   "outputs": [],
   "source": []
  }
 ],
 "metadata": {
  "kernelspec": {
   "display_name": "Python 3",
   "language": "python",
   "name": "python3"
  },
  "language_info": {
   "codemirror_mode": {
    "name": "ipython",
    "version": 3
   },
   "file_extension": ".py",
   "mimetype": "text/x-python",
   "name": "python",
   "nbconvert_exporter": "python",
   "pygments_lexer": "ipython3",
   "version": "3.7.0"
  }
 },
 "nbformat": 4,
 "nbformat_minor": 2
}
